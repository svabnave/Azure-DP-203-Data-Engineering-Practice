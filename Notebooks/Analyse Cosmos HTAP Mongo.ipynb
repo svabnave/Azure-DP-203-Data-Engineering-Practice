{
  "cells": [
    {
      "cell_type": "markdown",
      "source": [
        "https://docs.microsoft.com/en-us/learn/modules/query-azure-cosmos-db-with-apache-spark-for-azure-synapse-analytics/"
      ],
      "metadata": {
        "nteract": {
          "transient": {
            "deleting": false
          }
        }
      }
    },
    {
      "cell_type": "code",
      "source": [
        "dfCustomer = spark.read\\\r\n",
        "    .format(\"cosmos.olap\")\\\r\n",
        "    .option(\"spark.synapse.linkedService\", \"AdventureWorksSQL\")\\\r\n",
        "    .option(\"spark.cosmos.container\", \"Customer\")\\\r\n",
        "    .load()\r\n",
        "\r\n",
        "dfSalesOrder = spark.read\\\r\n",
        "    .format(\"cosmos.olap\")\\\r\n",
        "    .option(\"spark.synapse.linkedService\", \"AdventureWorksMongoDB\")\\\r\n",
        "    .option(\"spark.cosmos.container\", \"SalesOrder\")\\\r\n",
        "    .load()"
      ],
      "outputs": [],
      "execution_count": null,
      "metadata": {}
    },
    {
      "cell_type": "code",
      "source": [
        "display(dfCustomer.limit(10))"
      ],
      "outputs": [],
      "execution_count": null,
      "metadata": {
        "jupyter": {
          "source_hidden": false,
          "outputs_hidden": false
        },
        "nteract": {
          "transient": {
            "deleting": false
          }
        },
        "collapsed": true
      }
    },
    {
      "cell_type": "code",
      "source": [
        "display(dfSalesOrder.limit(10))"
      ],
      "outputs": [],
      "execution_count": null,
      "metadata": {
        "jupyter": {
          "source_hidden": false,
          "outputs_hidden": false
        },
        "nteract": {
          "transient": {
            "deleting": false
          }
        },
        "collapsed": true
      }
    },
    {
      "cell_type": "code",
      "source": [
        "system_document_properties = {'_attachments','_etag','_rid','_self','_ts'}\r\n",
        "customer_columns = list(set(dfCustomer.columns) - system_document_properties)\r\n",
        "dfCustomer = dfCustomer.select(customer_columns)\r\n",
        "\r\n",
        "display(dfCustomer.limit(10))"
      ],
      "outputs": [],
      "execution_count": null,
      "metadata": {
        "jupyter": {
          "source_hidden": false,
          "outputs_hidden": false
        },
        "nteract": {
          "transient": {
            "deleting": false
          }
        },
        "collapsed": true
      }
    },
    {
      "cell_type": "code",
      "source": [
        "system_document_properties = {'_attachments','_etag','_rid','_self','_ts','id'}\r\n",
        "salesorder_columns = list(set(dfSalesOrder.columns) - system_document_properties)\r\n",
        "dfSalesOrder = dfSalesOrder.select(salesorder_columns)\r\n",
        "\r\n",
        "display(dfSalesOrder.limit(10))"
      ],
      "outputs": [],
      "execution_count": null,
      "metadata": {
        "jupyter": {
          "source_hidden": false,
          "outputs_hidden": false
        },
        "nteract": {
          "transient": {
            "deleting": false
          }
        },
        "collapsed": true
      }
    },
    {
      "cell_type": "code",
      "source": [
        "dfCustomer.printSchema()"
      ],
      "outputs": [],
      "execution_count": null,
      "metadata": {
        "jupyter": {
          "source_hidden": false,
          "outputs_hidden": false
        },
        "nteract": {
          "transient": {
            "deleting": false
          }
        },
        "collapsed": true
      }
    },
    {
      "cell_type": "code",
      "source": [
        "dfSalesOrder.printSchema()"
      ],
      "outputs": [],
      "execution_count": null,
      "metadata": {
        "jupyter": {
          "source_hidden": false,
          "outputs_hidden": false
        },
        "nteract": {
          "transient": {
            "deleting": false
          }
        },
        "collapsed": true
      }
    },
    {
      "cell_type": "code",
      "source": [
        "print(dfCustomer.count())"
      ],
      "outputs": [],
      "execution_count": null,
      "metadata": {
        "jupyter": {
          "source_hidden": false,
          "outputs_hidden": false
        },
        "nteract": {
          "transient": {
            "deleting": false
          }
        },
        "collapsed": true
      }
    },
    {
      "cell_type": "code",
      "source": [
        "display(dfCustomer.groupBy(\"address.country\",\"address.city\").count().orderBy(\"count\",  ascending=False).limit(10))"
      ],
      "outputs": [],
      "execution_count": null,
      "metadata": {
        "jupyter": {
          "source_hidden": false,
          "outputs_hidden": false
        },
        "nteract": {
          "transient": {
            "deleting": false
          }
        },
        "collapsed": true
      }
    },
    {
      "cell_type": "code",
      "source": [
        "dfCustomer.createOrReplaceTempView(\"CustomerTempView\")\r\n",
        "\r\n",
        "dfResult = spark.sql(\"SELECT * FROM CustomerTempView\")\r\n",
        "display(dfResult.limit(10))"
      ],
      "outputs": [],
      "execution_count": null,
      "metadata": {
        "jupyter": {
          "source_hidden": false,
          "outputs_hidden": false
        },
        "nteract": {
          "transient": {
            "deleting": false
          }
        },
        "collapsed": true
      }
    },
    {
      "cell_type": "code",
      "source": [
        "%%sql\r\n",
        "SELECT * FROM CustomerTempView LIMIT 10"
      ],
      "outputs": [],
      "execution_count": null,
      "metadata": {
        "jupyter": {
          "source_hidden": false,
          "outputs_hidden": false
        },
        "nteract": {
          "transient": {
            "deleting": false
          }
        },
        "microsoft": {
          "language": "sparksql"
        },
        "collapsed": true
      }
    },
    {
      "cell_type": "code",
      "source": [
        "%%sql\r\n",
        "CREATE TABLE Customers USING cosmos.olap OPTIONS (\r\n",
        "    spark.synapse.linkedService 'AdventureWorksSQL',\r\n",
        "    spark.cosmos.container 'Customer'\r\n",
        ")"
      ],
      "outputs": [],
      "execution_count": null,
      "metadata": {
        "jupyter": {
          "source_hidden": false,
          "outputs_hidden": false
        },
        "nteract": {
          "transient": {
            "deleting": false
          }
        },
        "microsoft": {
          "language": "sparksql"
        },
        "collapsed": true
      }
    },
    {
      "cell_type": "code",
      "source": [
        "%%sql\r\n",
        "CREATE TABLE SalesOrders USING cosmos.olap OPTIONS (\r\n",
        "    spark.synapse.linkedService 'AdventureWorksMongoDB',\r\n",
        "    spark.cosmos.container 'SalesOrder'\r\n",
        ")"
      ],
      "outputs": [],
      "execution_count": null,
      "metadata": {
        "jupyter": {
          "source_hidden": false,
          "outputs_hidden": false
        },
        "nteract": {
          "transient": {
            "deleting": false
          }
        },
        "microsoft": {
          "language": "sparksql"
        },
        "collapsed": true
      }
    },
    {
      "cell_type": "code",
      "source": [
        "%%sql\r\n",
        "SELECT address.city AS City_Name, address.country AS Country_Name, count(*) as Address_Count \r\n",
        "                            FROM Customers \r\n",
        "                            GROUP BY address.city, address.country \r\n",
        "                            ORDER BY Address_Count DESC \r\n",
        "                            LIMIT 10"
      ],
      "outputs": [],
      "execution_count": null,
      "metadata": {
        "jupyter": {
          "source_hidden": false,
          "outputs_hidden": false
        },
        "nteract": {
          "transient": {
            "deleting": false
          }
        },
        "microsoft": {
          "language": "sparksql"
        },
        "collapsed": true
      }
    },
    {
      "cell_type": "code",
      "source": [
        "%%sql\r\n",
        "CREATE OR REPLACE TEMPORARY VIEW SalesOrderView\r\n",
        "AS\r\n",
        "SELECT s._id.string as SalesOrderId, \r\n",
        "        c.id AS CustomerId, c.address.country AS Country, c.address.city AS City, \r\n",
        "        to_date(s.orderdate.string) AS OrderDate, to_date(s.shipdate.string) AS ShipDate\r\n",
        "    FROM Customers c \r\n",
        "    INNER JOIN SalesOrders s\r\n",
        "        ON c.id = s.CustomerId.string"
      ],
      "outputs": [],
      "execution_count": null,
      "metadata": {
        "jupyter": {
          "source_hidden": false,
          "outputs_hidden": false
        },
        "nteract": {
          "transient": {
            "deleting": false
          }
        },
        "microsoft": {
          "language": "sparksql"
        },
        "collapsed": true
      }
    },
    {
      "cell_type": "code",
      "source": [
        "%%sql\r\n",
        "SELECT * FROM SalesOrderView LIMIT 10"
      ],
      "outputs": [],
      "execution_count": null,
      "metadata": {
        "jupyter": {
          "source_hidden": false,
          "outputs_hidden": false
        },
        "nteract": {
          "transient": {
            "deleting": false
          }
        },
        "microsoft": {
          "language": "sparksql"
        },
        "collapsed": true
      }
    },
    {
      "cell_type": "code",
      "source": [
        "%%sql\r\n",
        "SELECT Country, City, Count(*) AS Total_Orders\r\n",
        "    FROM SalesOrderView\r\n",
        "    GROUP BY Country, City \r\n",
        "ORDER BY Total_Orders DESC"
      ],
      "outputs": [],
      "execution_count": null,
      "metadata": {
        "jupyter": {
          "source_hidden": false,
          "outputs_hidden": false
        },
        "nteract": {
          "transient": {
            "deleting": false
          }
        },
        "microsoft": {
          "language": "sparksql"
        },
        "collapsed": true
      }
    },
    {
      "cell_type": "code",
      "source": [
        "%%sql\r\n",
        "SELECT _id.string as SalesOrderId, details\r\n",
        "    FROM SalesOrders\r\n",
        "    LIMIT 10"
      ],
      "outputs": [],
      "execution_count": null,
      "metadata": {
        "jupyter": {
          "source_hidden": false,
          "outputs_hidden": false
        },
        "nteract": {
          "transient": {
            "deleting": false
          }
        },
        "microsoft": {
          "language": "sparksql"
        },
        "collapsed": true
      }
    },
    {
      "cell_type": "code",
      "source": [
        "%%sql\r\n",
        "SELECT _id.string as SalesOrderId, explode(details.array)\r\n",
        "    FROM SalesOrders\r\n",
        "    LIMIT 10"
      ],
      "outputs": [],
      "execution_count": null,
      "metadata": {
        "jupyter": {
          "source_hidden": false,
          "outputs_hidden": false
        },
        "nteract": {
          "transient": {
            "deleting": false
          }
        },
        "microsoft": {
          "language": "sparksql"
        },
        "collapsed": true
      }
    },
    {
      "cell_type": "code",
      "source": [
        "%%sql\r\n",
        "SELECT _id.string as SalesOrderId, posexplode(details.array) \r\n",
        "    FROM SalesOrders\r\n",
        "    LIMIT 10"
      ],
      "outputs": [],
      "execution_count": null,
      "metadata": {
        "jupyter": {
          "source_hidden": false,
          "outputs_hidden": false
        },
        "nteract": {
          "transient": {
            "deleting": false
          }
        },
        "microsoft": {
          "language": "sparksql"
        },
        "collapsed": true
      }
    },
    {
      "cell_type": "code",
      "source": [
        "%%sql\r\n",
        "CREATE OR REPLACE TEMPORARY VIEW SalesOrderDetailsView\r\n",
        "AS\r\n",
        "    SELECT Ax.SalesOrderId,\r\n",
        "        pos+1 as SalesOrderLine,\r\n",
        "        col.object.sku.string AS SKUCode,\r\n",
        "        col.object.price.float64 AS Price, \r\n",
        "        col.object.quantity.int32 AS Quantity\r\n",
        "    FROM \r\n",
        "        (\r\n",
        "            SELECT _id.string as SalesOrderId, posexplode(details.array) FROM SalesOrders \r\n",
        "        ) Ax"
      ],
      "outputs": [],
      "execution_count": null,
      "metadata": {
        "jupyter": {
          "source_hidden": false,
          "outputs_hidden": false
        },
        "nteract": {
          "transient": {
            "deleting": false
          }
        },
        "microsoft": {
          "language": "sparksql"
        },
        "collapsed": true
      }
    },
    {
      "cell_type": "code",
      "source": [
        "SELECT * \r\n",
        "FROM SalesOrderDetailsView\r\n",
        "LIMIT 10"
      ],
      "outputs": [],
      "execution_count": null,
      "metadata": {
        "jupyter": {
          "source_hidden": false,
          "outputs_hidden": false
        },
        "nteract": {
          "transient": {
            "deleting": false
          }
        },
        "collapsed": true
      }
    },
    {
      "cell_type": "code",
      "source": [
        "DESCRIBE SalesOrderDetailsView"
      ],
      "outputs": [],
      "execution_count": null,
      "metadata": {
        "jupyter": {
          "source_hidden": false,
          "outputs_hidden": false
        },
        "nteract": {
          "transient": {
            "deleting": false
          }
        },
        "collapsed": true
      }
    },
    {
      "cell_type": "code",
      "source": [
        "%%sql\r\n",
        "SELECT o.Country, o.City,\r\n",
        "    COUNT(DISTINCT o.CustomerId) Total_Customers,\r\n",
        "    COUNT(DISTINCT d.SalesOrderId) Total_Orders,\r\n",
        "    COUNT(d.SalesOrderId) Total_OrderLines,\r\n",
        "    SUM(d.Quantity*d.Price) AS Total_Revenue,\r\n",
        "    dense_rank() OVER (ORDER BY SUM(d.Quantity*d.Price) DESC) as Rank_Revenue,\r\n",
        "    dense_rank() OVER (ORDER BY COUNT(DISTINCT d.SalesOrderId) DESC) as Rank_Orders,\r\n",
        "    dense_rank() OVER (ORDER BY COUNT(d.SalesOrderId) DESC) as Rank_OrderLines,\r\n",
        "    dense_rank() OVER (PARTITION BY o.Country ORDER BY SUM(d.Quantity*d.Price) DESC) as Rank_Revenue_Country\r\n",
        "FROM SalesOrderView o\r\n",
        "INNER JOIN SalesOrderDetailsView d\r\n",
        "    ON o.SalesOrderId = d.SalesOrderId\r\n",
        "WHERE Country IS NOT NULL OR City IS NOT NULL\r\n",
        "GROUP BY o.Country, o.City\r\n",
        "ORDER BY Total_Revenue DESC\r\n",
        "LIMIT 10"
      ],
      "outputs": [],
      "execution_count": null,
      "metadata": {
        "jupyter": {
          "source_hidden": false,
          "outputs_hidden": false
        },
        "nteract": {
          "transient": {
            "deleting": false
          }
        },
        "microsoft": {
          "language": "sparksql"
        },
        "collapsed": true
      }
    },
    {
      "cell_type": "code",
      "source": [
        "%%sql\r\n",
        "CREATE OR REPLACE TEMPORARY VIEW SalesOrderStatsView\r\n",
        "AS\r\n",
        "SELECT o.Country, o.City,\r\n",
        "    COUNT(DISTINCT o.CustomerId) Total_Customers,\r\n",
        "    COUNT(DISTINCT d.SalesOrderId) Total_Orders,\r\n",
        "    COUNT(d.SalesOrderId) Total_OrderLines,\r\n",
        "    SUM(d.Quantity*d.Price) AS Total_Revenue,\r\n",
        "    dense_rank() OVER (ORDER BY SUM(d.Quantity*d.Price) DESC) as Rank_Revenue,\r\n",
        "    dense_rank() OVER (ORDER BY COUNT(DISTINCT d.SalesOrderId) DESC) as Rank_Orders,\r\n",
        "    dense_rank() OVER (ORDER BY COUNT(d.SalesOrderId) DESC) as Rank_OrderLines,\r\n",
        "    dense_rank() OVER (PARTITION BY o.Country ORDER BY SUM(d.Quantity*d.Price) DESC) as Rank_Revenue_Country\r\n",
        "FROM SalesOrderView o\r\n",
        "INNER JOIN SalesOrderDetailsView d\r\n",
        "    ON o.SalesOrderId = d.SalesOrderId\r\n",
        "WHERE Country IS NOT NULL OR City IS NOT NULL\r\n",
        "GROUP BY o.Country, o.City\r\n",
        "ORDER BY Total_Revenue DESC"
      ],
      "outputs": [],
      "execution_count": null,
      "metadata": {
        "jupyter": {
          "source_hidden": false,
          "outputs_hidden": false
        },
        "nteract": {
          "transient": {
            "deleting": false
          }
        },
        "microsoft": {
          "language": "sparksql"
        },
        "collapsed": true
      }
    },
    {
      "cell_type": "code",
      "source": [
        "%%sql\r\n",
        "SELECT concat(Country,'-',replace(City,' ','')) AS id, \r\n",
        "    'SalesOrderStatistic' AS type, *\r\n",
        "FROM SalesOrderStatsView\r\n",
        "LIMIT 10"
      ],
      "outputs": [],
      "execution_count": null,
      "metadata": {
        "jupyter": {
          "source_hidden": false,
          "outputs_hidden": false
        },
        "nteract": {
          "transient": {
            "deleting": false
          }
        },
        "microsoft": {
          "language": "sparksql"
        },
        "collapsed": true
      }
    },
    {
      "cell_type": "code",
      "source": [
        "dfSalesOrderStatistic = spark.sql(\"SELECT concat(Country,'-',replace(City,' ','')) AS id, \\\r\n",
        "                                    'SalesOrderStatistic' AS type, \\\r\n",
        "                                    * FROM SalesOrderStatsView\")\r\n",
        "\r\n",
        "dfSalesOrderStatistic.write\\\r\n",
        "    .format(\"cosmos.oltp\")\\\r\n",
        "    .option(\"spark.synapse.linkedService\", \"AdventureWorksSQL\")\\\r\n",
        "    .option(\"spark.cosmos.container\", \"Sales\")\\\r\n",
        "    .option(\"spark.cosmos.write.upsertEnabled\", \"true\")\\\r\n",
        "    .mode('append')\\\r\n",
        "    .save()"
      ],
      "outputs": [],
      "execution_count": null,
      "metadata": {
        "jupyter": {
          "source_hidden": false,
          "outputs_hidden": false
        },
        "nteract": {
          "transient": {
            "deleting": false
          }
        },
        "collapsed": true
      }
    },
    {
      "cell_type": "markdown",
      "source": [
        "# Let’s validate that these records are now visible in our Cosmos DB container by.\r\n",
        "\r\n",
        "#### Navigate to your previously created Azure Cosmos DB Core (SQL) API account and Select Data Explorer in the left-hand menu to run following SQL queries."
      ],
      "metadata": {
        "nteract": {
          "transient": {
            "deleting": false
          }
        }
      }
    },
    {
      "cell_type": "code",
      "source": [
        "SELECT * FROM c WHERE c.type = \"SalesOrderStatistic\""
      ],
      "outputs": [],
      "execution_count": null,
      "metadata": {
        "jupyter": {
          "source_hidden": false,
          "outputs_hidden": false
        },
        "nteract": {
          "transient": {
            "deleting": false
          }
        },
        "collapsed": true
      }
    },
    {
      "cell_type": "code",
      "source": [
        "SELECT COUNT(c.id) FROM c WHERE c.type = 'SalesOrderStatistic’"
      ],
      "outputs": [],
      "execution_count": null,
      "metadata": {
        "jupyter": {
          "source_hidden": false,
          "outputs_hidden": false
        },
        "nteract": {
          "transient": {
            "deleting": false
          }
        },
        "collapsed": true
      }
    },
    {
      "cell_type": "markdown",
      "source": [
        "# Read data from the transactional store\r\n"
      ],
      "metadata": {
        "nteract": {
          "transient": {
            "deleting": false
          }
        }
      }
    },
    {
      "cell_type": "code",
      "source": [
        "dfCustomer = spark.read\\\r\n",
        "    .format(\"cosmos.oltp\")\\\r\n",
        "    .option(\"spark.synapse.linkedService\", \"AdventureWorksSQL\")\\\r\n",
        "    .option(\"spark.cosmos.container\", \"Customer\")\\\r\n",
        "    .load()\r\n",
        "\r\n",
        "display(dfCustomer.limit(10))"
      ],
      "outputs": [],
      "execution_count": null,
      "metadata": {
        "jupyter": {
          "source_hidden": false,
          "outputs_hidden": false
        },
        "nteract": {
          "transient": {
            "deleting": false
          }
        },
        "collapsed": true
      }
    },
    {
      "cell_type": "code",
      "source": [
        "%%sql\r\n",
        "CREATE TABLE CustomersOLTP USING cosmos.oltp OPTIONS (\r\n",
        "    spark.synapse.linkedService 'AdventureWorksSQL',\r\n",
        "    spark.cosmos.container 'Customer'\r\n",
        ")"
      ],
      "outputs": [],
      "execution_count": null,
      "metadata": {
        "jupyter": {
          "source_hidden": false,
          "outputs_hidden": false
        },
        "nteract": {
          "transient": {
            "deleting": false
          }
        },
        "microsoft": {
          "language": "sparksql"
        },
        "collapsed": true
      }
    },
    {
      "cell_type": "code",
      "source": [
        "%%sql\r\n",
        "SELECT * FROM CustomersOLTP\r\n",
        "LIMIT 10"
      ],
      "outputs": [],
      "execution_count": null,
      "metadata": {
        "jupyter": {
          "source_hidden": false,
          "outputs_hidden": false
        },
        "nteract": {
          "transient": {
            "deleting": false
          }
        },
        "microsoft": {
          "language": "sparksql"
        },
        "collapsed": true
      }
    }
  ],
  "metadata": {
    "kernelspec": {
      "name": "synapse_pyspark",
      "display_name": "python"
    },
    "language_info": {
      "name": "python"
    },
    "save_output": true,
    "synapse_widget": {
      "version": "0.1",
      "state": {}
    }
  },
  "nbformat": 4,
  "nbformat_minor": 2
}