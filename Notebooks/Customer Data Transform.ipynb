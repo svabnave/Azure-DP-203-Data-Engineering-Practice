{
  "nbformat": 4,
  "nbformat_minor": 2,
  "metadata": {
    "kernelspec": {
      "name": "synapse_pyspark",
      "display_name": "Synapse PySpark"
    },
    "language_info": {
      "name": "python"
    },
    "save_output": true,
    "synapse_widget": {
      "version": "0.1",
      "state": {}
    }
  },
  "cells": [
    {
      "cell_type": "code",
      "execution_count": 1,
      "outputs": [],
      "metadata": {
        "microsoft": {
          "language": "python"
        },
        "collapsed": false
      },
      "source": [
        "%%pyspark\r\n",
        "df = spark.read.load('abfss://adlsynapsecontainer@adlstoragesynapse203.dfs.core.windows.net/synapse/workspaces/synapse-ws-203/Stage/Customer Profile/Customer Profile.json', format='json')\r\n",
        "display(df.limit(2))\r\n",
        ""
      ]
    },
    {
      "cell_type": "code",
      "execution_count": 2,
      "outputs": [],
      "metadata": {
        "jupyter": {
          "source_hidden": false,
          "outputs_hidden": false
        },
        "nteract": {
          "transient": {
            "deleting": false
          }
        },
        "collapsed": false
      },
      "source": [
        "from pyspark.sql.functions import lit,  array, concat, col\r\n",
        "\r\n",
        "df1 = df.na.fill(\"\")\r\n",
        "# df1 = df1.withColumn(\"Full Name\", array(\"FirstName\", \"LastName\"))\r\n",
        "\r\n",
        "# arr = df1.select(concat(col(\"FirstName\"),lit(' '),col(\"MiddleName\"),lit(' '),col(\"LastName\")))\r\n",
        "# print(arr)\r\n",
        "\r\n",
        "# df1 = df1.withColumn(\"Full Name\", concat(col(\"FirstName\"),lit(' '),col(\"MiddleName\"),lit(' '),col(\"LastName\")))\r\n",
        "\r\n",
        "df1 = df1.withColumn(\"Full Name\", concat(\"FirstName\", lit(' '), \"MiddleName\", lit(' '), \"LastName\"))\r\n",
        "\r\n",
        "display(df1.limit(2))\r\n",
        "\r\n",
        ""
      ]
    },
    {
      "cell_type": "code",
      "execution_count": 3,
      "outputs": [],
      "metadata": {
        "jupyter": {
          "source_hidden": false,
          "outputs_hidden": false
        },
        "nteract": {
          "transient": {
            "deleting": false
          }
        },
        "collapsed": false
      },
      "source": [
        "from datetime import date\r\n",
        "from pyspark.sql.functions import year, month, dayofmonth, when\r\n",
        "import numpy as np\r\n",
        "\r\n",
        "curr_year = date.today().year\r\n",
        "curr_month = date.today().month\r\n",
        "curr_day = date.today().day\r\n",
        "# print(curr_day)\r\n",
        "\r\n",
        "\r\n",
        "#df1.select(\r\n",
        " #   year(\"InsertedDate\").alias('year'), \r\n",
        "  #  month(\"InsertedDate\").alias('month'), \r\n",
        "   # dayofmonth(\"InsertedDate\").alias('day')\r\n",
        "#).show()\r\n",
        "\r\n",
        "df1 = df1.withColumn(\"Customer Since\", when(year(\"InsertedDate\") == lit(curr_year), when(month(\"InsertedDate\") == lit(curr_month), concat(lit(curr_day) - dayofmonth(\"InsertedDate\"), lit(\" days\"))).otherwise(concat(lit(curr_month) - month(\"InsertedDate\"), lit(\" months\")))).otherwise(concat(lit(curr_year) - year(\"InsertedDate\"), lit(\" years\"))))\r\n",
        "display(df1.limit(2))\r\n",
        "\r\n",
        "# print( df1.select(\"InsertedDate\").collect()[0][0])\r\n",
        "# dfarray = np.array(df1.collect())\r\n",
        "# print(dfarray[0][5])\r\n",
        ""
      ]
    },
    {
      "cell_type": "code",
      "execution_count": 6,
      "outputs": [],
      "metadata": {
        "jupyter": {
          "source_hidden": false,
          "outputs_hidden": false
        },
        "nteract": {
          "transient": {
            "deleting": false
          }
        },
        "collapsed": true
      },
      "source": [
        "df1.write.mode('overwrite').format('json').save('abfss://adlsynapsecontainer@adlstoragesynapse203.dfs.core.windows.net/synapse/workspaces/synapse-ws-203/Stage/temp/Customer Profile/')"
      ]
    }
  ]
}